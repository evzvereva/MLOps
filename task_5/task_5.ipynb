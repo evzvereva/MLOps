{
  "nbformat": 4,
  "nbformat_minor": 0,
  "metadata": {
    "colab": {
      "provenance": []
    },
    "kernelspec": {
      "name": "python3",
      "display_name": "Python 3"
    },
    "language_info": {
      "name": "python"
    }
  },
  "cells": [
    {
      "cell_type": "markdown",
      "source": [
        "## Импорт необходимых библиотек"
      ],
      "metadata": {
        "id": "G9Ka_Cu7IKq9"
      }
    },
    {
      "cell_type": "code",
      "execution_count": null,
      "metadata": {
        "id": "d86JdG-SGpyc"
      },
      "outputs": [],
      "source": [
        "import os\n",
        "import pandas as pd\n",
        "import numpy as np\n",
        "import matplotlib.pyplot as plt\n",
        "from sklearn.linear_model import LinearRegression\n",
        "from sklearn.metrics import r2_score"
      ]
    },
    {
      "cell_type": "markdown",
      "source": [
        "## Содание данных для дальнейшего разделения"
      ],
      "metadata": {
        "id": "AuTzDVElIRb2"
      }
    },
    {
      "cell_type": "code",
      "source": [
        "# Создание папок для сохранения данных, если они еще не существуют\n",
        "if not os.path.exists('data_one'):\n",
        "    os.makedirs('data_one')\n",
        "if not os.path.exists('data_two'):\n",
        "    os.makedirs('data_two')\n",
        "if not os.path.exists('data_three'):\n",
        "    os.makedirs('data_three')\n",
        "if not os.path.exists('data_four'):\n",
        "    os.makedirs('data_four')"
      ],
      "metadata": {
        "id": "rhtYxElLITi-"
      },
      "execution_count": null,
      "outputs": []
    },
    {
      "cell_type": "markdown",
      "source": [
        "## Создание датафреймов"
      ],
      "metadata": {
        "id": "I7uaqtxnJvNX"
      }
    },
    {
      "cell_type": "code",
      "source": [
        "def random_value(a, b, c, name_col_one, name_col_two):\n",
        "\n",
        "  # создание случайных данных для двух признаков\n",
        "  val_1 = np.linspace(a, b, c)\n",
        "  val_2 = val_1 + np.random.random(c)*2\n",
        "\n",
        "  # создание датафрейма на основании полученных признаков\n",
        "  df = pd.DataFrame({\n",
        "    name_col_one: val_1,\n",
        "    name_col_two: val_2})\n",
        "  return df"
      ],
      "metadata": {
        "id": "fDPPw753oIDq"
      },
      "execution_count": null,
      "outputs": []
    },
    {
      "cell_type": "code",
      "source": [
        "# создадим датафрейм, где count_application - кол-во обработанных заявок по продажам, money - выручка с продаж\n",
        "data_one = random_value(0, 10, 100, 'count_application', 'money')\n",
        "data_one.to_csv('data_one/data_one.csv', index=False)\n",
        "\n",
        "plt.scatter(data_one['count_application'], data_one['money'])"
      ],
      "metadata": {
        "colab": {
          "base_uri": "https://localhost:8080/",
          "height": 447
        },
        "id": "87F2_xx1mWaw",
        "outputId": "3177d1aa-2c2d-465a-9a42-a2a123c4acdf"
      },
      "execution_count": null,
      "outputs": [
        {
          "output_type": "execute_result",
          "data": {
            "text/plain": [
              "<matplotlib.collections.PathCollection at 0x7c688c7c71f0>"
            ]
          },
          "metadata": {},
          "execution_count": 165
        },
        {
          "output_type": "display_data",
          "data": {
            "text/plain": [
              "<Figure size 640x480 with 1 Axes>"
            ],
            "image/png": "[encoded data removed]"
          },
          "metadata": {}
        }
      ]
    },
    {
      "cell_type": "code",
      "source": [
        "# создадим датафрейм, где number_steps - кол-во шагов, time - время\n",
        "data_two = random_value(0, 500, 100, 'number_steps', 'time')\n",
        "data_two.to_csv('data_two/data_two.csv', index=False)\n",
        "\n",
        "plt.scatter(data_two['number_steps'], data_two['time'])"
      ],
      "metadata": {
        "colab": {
          "base_uri": "https://localhost:8080/",
          "height": 447
        },
        "id": "Gpth_lWygZWx",
        "outputId": "01eb683e-9042-41e0-ce58-8a506cbb4679"
      },
      "execution_count": null,
      "outputs": [
        {
          "output_type": "execute_result",
          "data": {
            "text/plain": [
              "<matplotlib.collections.PathCollection at 0x7c6889d32d10>"
            ]
          },
          "metadata": {},
          "execution_count": 166
        },
        {
          "output_type": "display_data",
          "data": {
            "text/plain": [
              "<Figure size 640x480 with 1 Axes>"
            ],
            "image/png": "[encoded data removed]"
          },
          "metadata": {}
        }
      ]
    },
    {
      "cell_type": "code",
      "source": [
        "# создадим датафрейм, где count_task - кол-во выполненных заданий, time - время\n",
        "data_three = random_value(0, 5, 5, 'count_task', 'time')\n",
        "data_three.to_csv('data_three/data_three.csv', index=False)\n",
        "\n",
        "plt.scatter(data_three['count_task'], data_three['time'])"
      ],
      "metadata": {
        "id": "fjN7v35yp04v",
        "colab": {
          "base_uri": "https://localhost:8080/",
          "height": 447
        },
        "outputId": "d0089384-0cc2-4c3e-e797-e60dd39ba2f0"
      },
      "execution_count": null,
      "outputs": [
        {
          "output_type": "execute_result",
          "data": {
            "text/plain": [
              "<matplotlib.collections.PathCollection at 0x7c6889bdf2e0>"
            ]
          },
          "metadata": {},
          "execution_count": 167
        },
        {
          "output_type": "display_data",
          "data": {
            "text/plain": [
              "<Figure size 640x480 with 1 Axes>"
            ],
            "image/png": "[encoded data removed]"
          },
          "metadata": {}
        }
      ]
    },
    {
      "cell_type": "code",
      "source": [
        "# Генерация данных возраста и веса\n",
        "np.random.seed(0)\n",
        "X = np.random.uniform(0, 100, 100)  # возраст\n",
        "y = 2 * X + 3 + np.random.normal(0, 100, size=X.shape)  # вес с большим шумом\n",
        "\n",
        "# Создание DataFrame\n",
        "data_four = pd.DataFrame({'Age': X, 'weight': y})\n",
        "data_four.to_csv('data_four/data_four.csv', index=False)\n",
        "\n",
        "plt.scatter(data_four['Age'], data_four['weight'])"
      ],
      "metadata": {
        "colab": {
          "base_uri": "https://localhost:8080/",
          "height": 447
        },
        "id": "B03SFdAcylsY",
        "outputId": "cb948bad-d113-4d3f-9ce7-903db31d1e85"
      },
      "execution_count": null,
      "outputs": [
        {
          "output_type": "execute_result",
          "data": {
            "text/plain": [
              "<matplotlib.collections.PathCollection at 0x7c6889630b50>"
            ]
          },
          "metadata": {},
          "execution_count": 168
        },
        {
          "output_type": "display_data",
          "data": {
            "text/plain": [
              "<Figure size 640x480 with 1 Axes>"
            ],
            "image/png": "[encoded data removed]"
          },
          "metadata": {}
        }
      ]
    },
    {
      "cell_type": "markdown",
      "source": [
        "## Обучение модели с помощью Линейной регрессии"
      ],
      "metadata": {
        "id": "2OTqU_XrMFiY"
      }
    },
    {
      "cell_type": "code",
      "source": [
        "def get_model_learn_data(data_path, column_y):\n",
        "  \"\"\"\n",
        "  На вход функции поступает путь до файла и целевая переменная.\n",
        "  В результате получаем метрику качества R2 обученной модели на входных данных.\n",
        "  \"\"\"\n",
        "\n",
        "  df = pd.read_csv(data_path, sep=\",\")\n",
        "\n",
        "  # отделяем целевую переменную от остальных данных\n",
        "  X = df.drop(columns=[column_y])\n",
        "  y = df[column_y]\n",
        "\n",
        "  # Инициализируем модель\n",
        "  model = LinearRegression()\n",
        "\n",
        "  # Обучение модели на обучающей выборке\n",
        "  m = model.fit(X, y)\n",
        "\n",
        "  # Предсказание на тестовой выборке\n",
        "  y_pred = m.predict(X)\n",
        "\n",
        "  # Метрика качества\n",
        "  r2 = r2_score(y, y_pred)\n",
        "  return r2"
      ],
      "metadata": {
        "id": "oQU42wzo_JuB"
      },
      "execution_count": null,
      "outputs": []
    },
    {
      "cell_type": "markdown",
      "source": [
        "## Тестирование работы модели на разных датасетах с использованием Pytest"
      ],
      "metadata": {
        "id": "N5dSfru3C6-F"
      }
    },
    {
      "cell_type": "code",
      "source": [
        "import ipytest\n",
        "ipytest.autoconfig()"
      ],
      "metadata": {
        "id": "YxLHltyBHxs6"
      },
      "execution_count": null,
      "outputs": []
    },
    {
      "cell_type": "code",
      "source": [
        "def test_data_model_learn():\n",
        "  assert get_model_learn_data(\"data_one/data_one.csv\", \"money\") >= 0.90\n",
        "  assert get_model_learn_data(\"data_two/data_two.csv\", \"time\") >= 0.90\n",
        "  assert get_model_learn_data(\"data_three/data_three.csv\", \"time\") >= 0.90\n",
        "  assert get_model_learn_data(\"data_four/data_four.csv\", \"weight\") >= 0.90"
      ],
      "metadata": {
        "id": "2NTXm-OYAcbR"
      },
      "execution_count": null,
      "outputs": []
    },
    {
      "cell_type": "code",
      "source": [
        "# Запуск тестов\n",
        "ipytest.run()"
      ],
      "metadata": {
        "colab": {
          "base_uri": "https://localhost:8080/"
        },
        "id": "4RAUBMVRDxg6",
        "outputId": "d45f5e40-5783-43a1-cc10-c1142713b6cc"
      },
      "execution_count": null,
      "outputs": [
        {
          "output_type": "stream",
          "name": "stdout",
          "text": [
            "\u001b[31mF\u001b[0m\u001b[31m                                                                                            [100%]\u001b[0m\n",
            "============================================= FAILURES =============================================\n",
            "\u001b[31m\u001b[1m______________________________________ test_data_model_learn _______________________________________\u001b[0m\n",
            "\n",
            "    \u001b[94mdef\u001b[39;49;00m \u001b[92mtest_data_model_learn\u001b[39;49;00m():\u001b[90m\u001b[39;49;00m\n",
            "      \u001b[94massert\u001b[39;49;00m get_model_learn_data(\u001b[33m\"\u001b[39;49;00m\u001b[33mdata_one/data_one.csv\u001b[39;49;00m\u001b[33m\"\u001b[39;49;00m, \u001b[33m\"\u001b[39;49;00m\u001b[33mmoney\u001b[39;49;00m\u001b[33m\"\u001b[39;49;00m) >= \u001b[94m0.90\u001b[39;49;00m\u001b[90m\u001b[39;49;00m\n",
            "      \u001b[94massert\u001b[39;49;00m get_model_learn_data(\u001b[33m\"\u001b[39;49;00m\u001b[33mdata_two/data_two.csv\u001b[39;49;00m\u001b[33m\"\u001b[39;49;00m, \u001b[33m\"\u001b[39;49;00m\u001b[33mtime\u001b[39;49;00m\u001b[33m\"\u001b[39;49;00m) >= \u001b[94m0.90\u001b[39;49;00m\u001b[90m\u001b[39;49;00m\n",
            "      \u001b[94massert\u001b[39;49;00m get_model_learn_data(\u001b[33m\"\u001b[39;49;00m\u001b[33mdata_three/data_three.csv\u001b[39;49;00m\u001b[33m\"\u001b[39;49;00m, \u001b[33m\"\u001b[39;49;00m\u001b[33mtime\u001b[39;49;00m\u001b[33m\"\u001b[39;49;00m) >= \u001b[94m0.90\u001b[39;49;00m\u001b[90m\u001b[39;49;00m\n",
            ">     \u001b[94massert\u001b[39;49;00m get_model_learn_data(\u001b[33m\"\u001b[39;49;00m\u001b[33mdata_four/data_four.csv\u001b[39;49;00m\u001b[33m\"\u001b[39;49;00m, \u001b[33m\"\u001b[39;49;00m\u001b[33mweight\u001b[39;49;00m\u001b[33m\"\u001b[39;49;00m) >= \u001b[94m0.90\u001b[39;49;00m\u001b[90m\u001b[39;49;00m\n",
            "\u001b[1m\u001b[31mE     AssertionError: assert 0.23908683085021198 >= 0.9\u001b[0m\n",
            "\u001b[1m\u001b[31mE      +  where 0.23908683085021198 = get_model_learn_data('data_four/data_four.csv', 'weight')\u001b[0m\n",
            "\n",
            "\u001b[1m\u001b[31m<ipython-input-176-70ce0612fd13>\u001b[0m:5: AssertionError\n",
            "\u001b[36m\u001b[1m===================================== short test summary info ======================================\u001b[0m\n",
            "\u001b[31mFAILED\u001b[0m t_646aa87c07eb4b54a29330a851fe9cba.py::\u001b[1mtest_data_model_learn\u001b[0m - AssertionError: assert 0.23908683085021198 >= 0.9\n",
            "\u001b[31m\u001b[31m\u001b[1m1 failed\u001b[0m\u001b[31m in 0.10s\u001b[0m\u001b[0m\n"
          ]
        },
        {
          "output_type": "execute_result",
          "data": {
            "text/plain": [
              "<ExitCode.TESTS_FAILED: 1>"
            ]
          },
          "metadata": {},
          "execution_count": 178
        }
      ]
    }
  ]
}